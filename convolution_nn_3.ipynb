{
 "cells": [
  {
   "cell_type": "markdown",
   "id": "ff65311d",
   "metadata": {},
   "source": [
    "### started 11/07/22\n",
    "#### CNN\n",
    "##### translation invariance - NN should respond to the same pattern, no matter where it is located\n",
    "##### yearly layers conscentrated on local regions "
   ]
  },
  {
   "cell_type": "code",
   "execution_count": null,
   "id": "6d4e4e60",
   "metadata": {},
   "outputs": [],
   "source": [
    "# 6.2 Convolutions for Images\n",
    "from d2l import mxnet as d2l\n",
    "from mxnet import autograd, np, npx\n",
    "from mxnet.gluon import nn\n",
    "npx.set_np()"
   ]
  },
  {
   "cell_type": "code",
   "execution_count": null,
   "id": "540abe64",
   "metadata": {},
   "outputs": [],
   "source": [
    "def corr2d(X, K):\n",
    "    \"\"\"Compute 2D cross-correlation.\n",
    "    K - kernel\n",
    "    X - matrix of weights \n",
    "    (Nh - Kh + 1) x (Nw - Kw + 1) - > output size of convolutional operation \n",
    "    \"\"\"\n",
    "    h, w = K.shape\n",
    "    Y = np.zeros((X.shape[0] - h + 1, X.shape[1] - w + 1))\n",
    "    for i in range(Y.shape[0]):\n",
    "        for j in range(Y.shape[1]):\n",
    "            Y[i, j] = d2l.reduce_sum((X[i: i + h, j: j + w] * K))\n",
    "    return Y\n",
    "X = np.array([[0.0, 1.0, 2.0], [3.0, 4.0, 5.0], [6.0, 7.0, 8.0]])\n",
    "K = np.array([[0.0, 1.0], [2.0, 3.0]]) \n",
    "corr2d(X, K)"
   ]
  },
  {
   "cell_type": "code",
   "execution_count": null,
   "id": "e83420af",
   "metadata": {},
   "outputs": [],
   "source": [
    "class conv2d(nn.Block): # create conv layer\n",
    "    def __init__(self, kernel, **kwargs):\n",
    "        super().__init__(**kwargs)\n",
    "        self.ww = self.params.get('ww', shape=kernel)\n",
    "        self.bb = self.params.get('bb', shape=(1,))\n",
    "        \n",
    "    def forward(self, X):\n",
    "        return corr2d(X, self.ww.data()) + self.bb.data()\n",
    "        \n",
    "conv2d = conv2d((1, 2))\n",
    "conv2d.initialize()\n",
    "conv2d(X)"
   ]
  },
  {
   "cell_type": "code",
   "execution_count": null,
   "id": "880ab6af",
   "metadata": {},
   "outputs": [],
   "source": [
    "# edge detector\n",
    "num = np.ones((3,3))\n",
    "num[:, 2:3] = 0\n",
    "kernel = np.array([[1,-1]])\n",
    "corr2d(num, kernel)"
   ]
  },
  {
   "cell_type": "code",
   "execution_count": null,
   "id": "024d62bc",
   "metadata": {},
   "outputs": [],
   "source": [
    "# learning a kernel\n",
    "conv_ = nn.Conv2D(1, kernel_size=(1, 2), use_bias=False)\n",
    "conv_.initialize()\n",
    "\n",
    "X = np.ones((6, 8))\n",
    "X[:, 2:6] = 0 # add noise\n",
    "K = np.array([[1.0, -1.0]]) # kernel to learn edge\n",
    "Y = corr2d(X, K)\n",
    "\n",
    "X = X.reshape(1, 1, 6, 8) # bathch size 1, channel 1, height 6, width 8\n",
    "Y = Y.reshape(1, 1, 6, 7) # batch size 1, channel 1, height 6, width 7"
   ]
  },
  {
   "cell_type": "code",
   "execution_count": null,
   "id": "417860ee",
   "metadata": {},
   "outputs": [],
   "source": [
    "for epoch in range(10):\n",
    "    with autograd.record():\n",
    "        Y_pred = conv_(X)\n",
    "        l = (Y_pred - Y) ** 2\n",
    "    l.backward()\n",
    "    conv_.weight.data()[:] -= conv_.weight.grad() * 3e-2\n",
    "    if (epoch + 1) % 2 == 0:\n",
    "        print('epoch %d, loss %.3f' % (epoch + 1, l.sum()))\n",
    "conv_.weight.data()"
   ]
  },
  {
   "cell_type": "code",
   "execution_count": null,
   "id": "8e7a5f64",
   "metadata": {},
   "outputs": [],
   "source": [
    "# 1. Construct an image X with diagonal edges.\n",
    "X1 = np.ones((5, 5))\n",
    "for i in range(5):\n",
    "    X1[i, i] = 0\n",
    "# 1. What happens if you apply the kernel K in this section to it?\n",
    "kernel1 = np.array([[1,-1], [-1,1]])\n",
    "corr2d(X1, kernel1) "
   ]
  },
  {
   "cell_type": "code",
   "execution_count": null,
   "id": "821eb759",
   "metadata": {},
   "outputs": [],
   "source": [
    "# Padding \n",
    "# (nh - kh + ph + 1) x (nw - kw + pw + 1)\n",
    "## using odd kernels and padding\n",
    "\n",
    "# Stride\n",
    "# (nh − kh + ph + sh)/ sh × (nw − kw + pw + sw)/ sw\n",
    "conv2d = nn.Conv2D(1, kernel_size=(3, 5), padding=(0, 1), strides=(3, 4))\n",
    "conv2d"
   ]
  },
  {
   "cell_type": "code",
   "execution_count": null,
   "id": "180fe241",
   "metadata": {},
   "outputs": [],
   "source": [
    "# Multiple input / output chanels\n",
    "# chanel dimention for color images is 3\n",
    "\n",
    "# the shape of convolutional kernel c0 × ci × kh × kw (c0 input, ci output number of channels)"
   ]
  },
  {
   "cell_type": "code",
   "execution_count": null,
   "id": "f4e5d450",
   "metadata": {},
   "outputs": [],
   "source": [
    "# 1 × 1 Convolutional Layer implementation \n",
    "\n",
    "def corr2d_multi_in_out_1x1(X, K):\n",
    "    c_i, h, w = X.shape\n",
    "    c_o = K.shape[0]\n",
    "    X = X.reshape((c_i, h * w))\n",
    "    K = K.reshape((c_o, c_i))\n",
    "    Y = np.dot(K, X) # Matrix multiplication in the fully-connected layer\n",
    "    return Y.reshape((c_o, h, w))\n",
    "\n",
    "def corr2d_multi_in(X, K):\n",
    "    # First, iterate through the 0th dimension (channel dimension) of `X` and `K`. Then, add them together\n",
    "    return sum(d2l.corr2d(x, k) for x, k in zip(X, K))\n",
    "\n",
    "def corr2d_multi_in_out(X, K):\n",
    "    # Iterate through the 0th dimension of `K`, and each time, perform\n",
    "    # cross-correlation operations with input `X`. All of the results are stacked together\n",
    "    return np.stack([corr2d_multi_in(X, k) for k in K], 0)\n",
    "\n",
    "X = np.random.normal(0, 1, (3, 3, 3))\n",
    "K = np.random.normal(0, 1, (2, 3, 1, 1))\n",
    "\n",
    "Y1 = corr2d_multi_in_out_1x1(X, K)\n",
    "Y2 = corr2d_multi_in_out(X, K)\n",
    "\n",
    "assert d2l.reduce_sum(np.abs(Y1-Y2)) < 1e-6 # check if the results are the same\n",
    "# -> it is the same cross-correlation function but with more dimentions (3, 3, 3)"
   ]
  },
  {
   "cell_type": "code",
   "execution_count": null,
   "id": "0b40f810",
   "metadata": {},
   "outputs": [],
   "source": [
    "# Pooling\n",
    "# pooling layers, which serve the dual purposes of mitigating the sensitivity\n",
    "# of convolutional layers to location and of spatially downsampling representations."
   ]
  },
  {
   "cell_type": "code",
   "execution_count": null,
   "id": "b10ce5b4",
   "metadata": {},
   "outputs": [],
   "source": [
    "from d2l import mxnet as d2l\n",
    "from mxnet import autograd, gluon, init, np, npx\n",
    "from mxnet.gluon import nn\n",
    "npx.set_np()\n",
    "\n",
    "X = d2l.reshape(np.arange(16, dtype=np.float32), (1, 1, 4, 4))\n",
    "X.shape"
   ]
  },
  {
   "cell_type": "code",
   "execution_count": null,
   "id": "efa4f593",
   "metadata": {},
   "outputs": [],
   "source": [
    "# One of the major benefits of a pooling layer is to alleviate the excessive sensitivity of the convolutional layer to location"
   ]
  },
  {
   "cell_type": "code",
   "execution_count": null,
   "id": "edf5c243",
   "metadata": {},
   "outputs": [],
   "source": [
    "# In a CNN, convolutional layers are typically arranged so that they gradually decrease the\n",
    "# spatial resolution of the representations, while increasing the number of channels."
   ]
  },
  {
   "cell_type": "markdown",
   "id": "42e0a178",
   "metadata": {},
   "source": [
    "### cross correlation multiple input / output"
   ]
  },
  {
   "cell_type": "code",
   "execution_count": 1,
   "id": "e92dbb2c",
   "metadata": {},
   "outputs": [
    {
     "name": "stdout",
     "output_type": "stream",
     "text": [
      "(2, 3, 3) (2, 2, 2)\n"
     ]
    }
   ],
   "source": [
    "from d2l import mxnet as d2l\n",
    "from mxnet import np, npx\n",
    "npx.set_np()\n",
    "\n",
    "X = np.array([[[0.0, 1.0, 2.0], [3.0, 4.0, 5.0], [6.0, 7.0, 8.0]],\n",
    "                [[1.0, 2.0, 3.0], [4.0, 5.0, 6.0], [7.0, 8.0, 9.0]]])\n",
    "K = np.array([[[0.0, 1.0], [2.0, 3.0]], [[1.0, 2.0], [3.0, 4.0]]])\n",
    "\n",
    "print(X.shape, K.shape)"
   ]
  },
  {
   "cell_type": "code",
   "execution_count": 8,
   "id": "45c197ef",
   "metadata": {},
   "outputs": [
    {
     "name": "stdout",
     "output_type": "stream",
     "text": [
      "(2, 2)\n"
     ]
    },
    {
     "data": {
      "text/plain": [
       "array([[ 56.,  72.],\n",
       "       [104., 120.]])"
      ]
     },
     "execution_count": 8,
     "metadata": {},
     "output_type": "execute_result"
    }
   ],
   "source": [
    "def corr_sum(X,K):\n",
    "    return sum(d2l.corr2d(x, k) for x, k in zip(X, K))\n",
    "print(corr_sum(X,K).shape)\n",
    "corr_sum(X,K)"
   ]
  },
  {
   "cell_type": "code",
   "execution_count": 25,
   "id": "442bf2de",
   "metadata": {},
   "outputs": [
    {
     "name": "stdout",
     "output_type": "stream",
     "text": [
      "(2, 3, 3)\n",
      "(3, 2, 2, 2)\n",
      "(3, 2, 2)\n"
     ]
    },
    {
     "data": {
      "text/plain": [
       "array([[[ 56.,  72.],\n",
       "        [104., 120.]],\n",
       "\n",
       "       [[ 76., 100.],\n",
       "        [148., 172.]],\n",
       "\n",
       "       [[ 96., 128.],\n",
       "        [192., 224.]]])"
      ]
     },
     "execution_count": 25,
     "metadata": {},
     "output_type": "execute_result"
    }
   ],
   "source": [
    "# In cross-correlation operations, the result on each output channel is calculated from the convolution kernel\n",
    "# corresponding to that output channel and takes input from all channels in the input tensor.\n",
    "def cross_corr_mult_channel(X, K):\n",
    "    return np.stack([corr_sum(X, k) for k in K], 0)\n",
    "print(X.shape)\n",
    "\n",
    "K_multi = np.stack((K, K+1, K+2), 0)\n",
    "print(K_multi.shape)\n",
    "\n",
    "res = cross_corr_mult_channel(X, K_multi)\n",
    "print(res.shape)\n",
    "res"
   ]
  },
  {
   "cell_type": "markdown",
   "id": "c2217933",
   "metadata": {},
   "source": [
    "### LeCun NET #"
   ]
  },
  {
   "cell_type": "code",
   "execution_count": null,
   "id": "eca4731a",
   "metadata": {},
   "outputs": [],
   "source": [
    "# each layer is (batch size, number of channel, height, width)\n",
    "from d2l import mxnet as d2l\n",
    "from mxnet import autograd, gluon, init, np, npx\n",
    "from mxnet.gluon import nn\n",
    "npx.set_np()\n",
    "\n",
    "net = nn.Sequential()\n",
    "net.add(\n",
    "    nn.Conv2D(channels=6, kernel_size=(5, 5), padding=(2, 2), activation='relu'),\n",
    "    nn.MaxPool2D(pool_size=(2, 2), strides=(2, 2)),\n",
    "    nn.Conv2D(channels=16, kernel_size=(5 ,5), activation='relu'),\n",
    "    nn.MaxPool2D(pool_size=(2, 2), strides=(2, 2)),\n",
    "    nn.Dense(120, activation='sigmoid'),\n",
    "    nn.Dense(84, activation='sigmoid'),\n",
    "    nn.Dense(10)\n",
    ")\n",
    "X = np.random.uniform(size=(1, 1, 28, 28))\n",
    "net.initialize()\n",
    "for layer in net:\n",
    "    X = layer(X)\n",
    "    print(layer.name, 'output shape:\\t', X.shape)"
   ]
  },
  {
   "cell_type": "code",
   "execution_count": 26,
   "id": "c3484b65",
   "metadata": {},
   "outputs": [
    {
     "ename": "AttributeError",
     "evalue": "'DataLoader' object has no attribute 'shape'",
     "output_type": "error",
     "traceback": [
      "\u001b[0;31m---------------------------------------------------------------------------\u001b[0m",
      "\u001b[0;31mAttributeError\u001b[0m                            Traceback (most recent call last)",
      "\u001b[0;32m/tmp/ipykernel_3426/987305633.py\u001b[0m in \u001b[0;36m<module>\u001b[0;34m\u001b[0m\n\u001b[1;32m      1\u001b[0m \u001b[0;31m# load data\u001b[0m\u001b[0;34m\u001b[0m\u001b[0;34m\u001b[0m\u001b[0;34m\u001b[0m\u001b[0m\n\u001b[1;32m      2\u001b[0m \u001b[0mtrain_iter\u001b[0m\u001b[0;34m,\u001b[0m \u001b[0mtest_iter\u001b[0m \u001b[0;34m=\u001b[0m \u001b[0md2l\u001b[0m\u001b[0;34m.\u001b[0m\u001b[0mload_data_fashion_mnist\u001b[0m\u001b[0;34m(\u001b[0m\u001b[0mbatch_size\u001b[0m\u001b[0;34m=\u001b[0m\u001b[0;36m256\u001b[0m\u001b[0;34m)\u001b[0m\u001b[0;34m\u001b[0m\u001b[0;34m\u001b[0m\u001b[0m\n\u001b[0;32m----> 3\u001b[0;31m \u001b[0mprint\u001b[0m\u001b[0;34m(\u001b[0m\u001b[0mtrain_iter\u001b[0m\u001b[0;34m.\u001b[0m\u001b[0mshape\u001b[0m\u001b[0;34m,\u001b[0m \u001b[0mtest_iter\u001b[0m\u001b[0;34m.\u001b[0m\u001b[0mshape\u001b[0m\u001b[0;34m)\u001b[0m\u001b[0;34m\u001b[0m\u001b[0;34m\u001b[0m\u001b[0m\n\u001b[0m\u001b[1;32m      4\u001b[0m \u001b[0;34m\u001b[0m\u001b[0m\n\u001b[1;32m      5\u001b[0m \u001b[0;32mdef\u001b[0m \u001b[0mevaluate_accuracy_gpu\u001b[0m\u001b[0;34m(\u001b[0m\u001b[0mnet\u001b[0m\u001b[0;34m,\u001b[0m \u001b[0mdata_iter\u001b[0m\u001b[0;34m,\u001b[0m \u001b[0mdevice\u001b[0m\u001b[0;34m=\u001b[0m\u001b[0;32mNone\u001b[0m\u001b[0;34m)\u001b[0m\u001b[0;34m:\u001b[0m \u001b[0;31m#@save\u001b[0m\u001b[0;34m\u001b[0m\u001b[0;34m\u001b[0m\u001b[0m\n",
      "\u001b[0;31mAttributeError\u001b[0m: 'DataLoader' object has no attribute 'shape'"
     ]
    }
   ],
   "source": [
    "# load data\n",
    "train_iter, test_iter = d2l.load_data_fashion_mnist(batch_size=256)\n",
    "\n",
    "def evaluate_accuracy_gpu(net, data_iter, device=None): #@save\n",
    "    \"\"\"Compute the accuracy for a model on a dataset using a GPU.\"\"\"\n",
    "    if not device: # Query the first device where the first parameter is on\n",
    "        device = list(net.collect_params().values())[0].list_ctx()[0]\n",
    "    # No. of correct predictions, no. of predictions\n",
    "    metric = d2l.Accumulator(2)\n",
    "    for X, y in data_iter:\n",
    "        X, y = X.as_in_ctx(device), y.as_in_ctx(device)\n",
    "        metric.add(d2l.accuracy(net(X), y), y.size)\n",
    "    return metric[0]/metric[1]\n",
    "\n",
    "def train_ch6(net, train_iter, test_iter, num_epochs, lr, device=d2l.try_gpu()):\n",
    "    \"\"\"Train a model with a GPU (defined in Chapter 6).\"\"\"\n",
    "    net.initialize(force_reinit=True, ctx=device, init=init.Xavier())\n",
    "    loss = gluon.loss.SoftmaxCrossEntropyLoss()\n",
    "    trainer = gluon.Trainer(net.collect_params(), 'sgd', {'learning_rate': lr})\n",
    "    animator = d2l.Animator(xlabel='epoch', xlim=[0, num_epochs], legend=['train loss', 'train acc', 'test acc'])\n",
    "    timer = d2l.Timer()\n",
    "    for epoch in range(num_epochs):\n",
    "        # Sum of training loss, sum of training accuracy, no. of examples\n",
    "        metric = d2l.Accumulator(3)\n",
    "        for i, (X, y) in enumerate(train_iter):\n",
    "            timer.start()\n",
    "            # Here is the major difference compared with `d2l.train_epoch_ch3`\n",
    "            X, y = X.as_in_ctx(device), y.as_in_ctx(device)\n",
    "            with autograd.record():\n",
    "                y_hat = net(X)\n",
    "                l = loss(y_hat, y)\n",
    "            l.backward()\n",
    "            trainer.step(X.shape[0])\n",
    "            metric.add(l.sum(), d2l.accuracy(y_hat, y), X.shape[0])\n",
    "            timer.stop()\n",
    "            train_loss = metric[0] / metric[2]\n",
    "            train_acc = metric[1] / metric[2]\n",
    "            if (i + 1) % 50 == 0:\n",
    "                animator.add(epoch + i / len(train_iter), (train_loss, train_acc, None))\n",
    "        test_acc = evaluate_accuracy_gpu(net, test_iter)\n",
    "        animator.add(epoch + 1, (None, None, test_acc))\n",
    "    print(f'loss {train_loss:.3f}, train acc {train_acc:.3f}, '  f'test acc {test_acc:.3f}')\n",
    "    print(f'{metric[2] * num_epochs / timer.sum():.1f} examples/sec ' f'on {str(device)}')\n",
    "    return net\n",
    "\n",
    "dsmd = train_ch6(net, train_iter, test_iter, num_epochs=10, lr=0.9)\n",
    "# AVG pooling loss 0.521, train acc 0.797, test acc 0.762\n",
    "# MaxPool2D 0.84\n",
    "# adjust kernel size, Relu, new Dense layer, MaxPool - > 0.1\n",
    "# Relu only for CL, MaxPool - > 0.889"
   ]
  },
  {
   "cell_type": "code",
   "execution_count": null,
   "id": "13b12f66",
   "metadata": {},
   "outputs": [],
   "source": [
    "params = dsmd.collect_params()\n",
    "for i in params:\n",
    "    print(i, params[i].data().shape)\n",
    "    d2l.show_images(params[i].data().reshape(6, 5, 5), 2, 4)\n",
    "    break\n",
    "# save model\n",
    "net.save_parameters(\"net.params\")"
   ]
  },
  {
   "cell_type": "markdown",
   "id": "71a1332d",
   "metadata": {},
   "source": [
    "#### solve task "
   ]
  },
  {
   "cell_type": "code",
   "execution_count": 1,
   "id": "30b2a71f",
   "metadata": {},
   "outputs": [
    {
     "name": "stdout",
     "output_type": "stream",
     "text": [
      "conv0 output shape:\t (1, 6, 28, 28)\n",
      "pool0 output shape:\t (1, 6, 14, 14)\n",
      "conv1 output shape:\t (1, 16, 10, 10)\n",
      "pool1 output shape:\t (1, 16, 5, 5)\n",
      "dense0 output shape:\t (1, 128)\n",
      "dense1 output shape:\t (1, 64)\n",
      "dense2 output shape:\t (1, 10)\n"
     ]
    }
   ],
   "source": [
    "from d2l import mxnet as d2l\n",
    "from mxnet import autograd, gluon, init, np, npx\n",
    "from mxnet.gluon import nn\n",
    "npx.set_np()\n",
    "\n",
    "new_net = nn.Sequential()\n",
    "new_net.add(\n",
    "    nn.Conv2D(channels=6, kernel_size=(5, 5), padding=(2, 2), activation='relu'),\n",
    "    nn.MaxPool2D(pool_size=(2, 2), strides=(2, 2)),\n",
    "    nn.Conv2D(channels=16, kernel_size=(5 ,5), activation='relu'),\n",
    "    nn.MaxPool2D(pool_size=(2, 2), strides=(2, 2)),\n",
    "    nn.Dense(128, activation='sigmoid'),\n",
    "    nn.Dense(64, activation='sigmoid'),\n",
    "    nn.Dense(10)\n",
    ")\n",
    "X = np.random.uniform(size=(1, 1, 28, 28))\n",
    "new_net.initialize()\n",
    "for layer in new_net:\n",
    "    X = layer(X)\n",
    "    print(layer.name, 'output shape:\\t', X.shape)\n",
    "\n",
    "new_net.load_parameters(\"net.params\")\n"
   ]
  },
  {
   "cell_type": "code",
   "execution_count": 3,
   "id": "9ea00c55",
   "metadata": {},
   "outputs": [
    {
     "name": "stdout",
     "output_type": "stream",
     "text": [
      "(256, 1, 28, 28) (256,)\n",
      "215.0\n",
      "(256, 10)\n",
      "(1, 28, 28)\n"
     ]
    },
    {
     "data": {
      "image/png": "[encoded data removed]",
      "text/plain": [
       "<Figure size 216x216 with 4 Axes>"
      ]
     },
     "metadata": {
      "needs_background": "light"
     },
     "output_type": "display_data"
    }
   ],
   "source": [
    "train_iter, test_iter = d2l.load_data_fashion_mnist(batch_size=256)\n",
    "for test, target in test_iter:\n",
    "    print(test.shape, target.shape)\n",
    "    print(d2l.accuracy(new_net(test), target))\n",
    "    print(new_net(test).shape)\n",
    "    d2l.show_images(test[3], 2, 2)\n",
    "    print(test[3].shape)\n",
    "    break"
   ]
  },
  {
   "cell_type": "code",
   "execution_count": 3,
   "id": "a1d5aa42",
   "metadata": {},
   "outputs": [
    {
     "data": {
      "text/plain": [
       "(6, 1, 5, 5)"
      ]
     },
     "execution_count": 3,
     "metadata": {},
     "output_type": "execute_result"
    },
    {
     "data": {
      "image/png": "[encoded data removed]",
      "text/plain": [
       "<Figure size 324x216 with 6 Axes>"
      ]
     },
     "metadata": {
      "needs_background": "light"
     },
     "output_type": "display_data"
    }
   ],
   "source": [
    "d2l.show_images(new_net[0].weight.data().reshape(6, 5 ,5),2,3)\n",
    "new_net[0].weight.data().shape\n",
    "# d2l.predict_ch3(net, test_iter)"
   ]
  },
  {
   "cell_type": "code",
   "execution_count": 4,
   "id": "d11bf720",
   "metadata": {},
   "outputs": [
    {
     "data": {
      "text/plain": [
       "array([<AxesSubplot:>, <AxesSubplot:>, <AxesSubplot:>, <AxesSubplot:>,\n",
       "       <AxesSubplot:>, <AxesSubplot:>, <AxesSubplot:>, <AxesSubplot:>],\n",
       "      dtype=object)"
      ]
     },
     "execution_count": 4,
     "metadata": {},
     "output_type": "execute_result"
    },
    {
     "data": {
      "image/png": "[encoded data removed]",
      "text/plain": [
       "<Figure size 432x216 with 8 Axes>"
      ]
     },
     "metadata": {
      "needs_background": "light"
     },
     "output_type": "display_data"
    }
   ],
   "source": [
    "d2l.show_images(new_net[2].weight.data()[0], 2, 4)"
   ]
  },
  {
   "cell_type": "markdown",
   "id": "716c660c",
   "metadata": {},
   "source": [
    "### AlexNET\n",
    "AlexNet controls the model complexity of the fully-connected layer by dropout (Section 4.6), while\n",
    "LeNet only uses weight decay\n",
    "##### histograms of oriented gradient - dominating before learning image representation"
   ]
  },
  {
   "cell_type": "code",
   "execution_count": 29,
   "id": "74dac2c6",
   "metadata": {},
   "outputs": [],
   "source": []
  },
  {
   "cell_type": "code",
   "execution_count": null,
   "id": "3776a041",
   "metadata": {},
   "outputs": [],
   "source": []
  }
 ],
 "metadata": {
  "kernelspec": {
   "display_name": "Python 3.7.11",
   "language": "python",
   "name": "python3"
  },
  "language_info": {
   "codemirror_mode": {
    "name": "ipython",
    "version": 3
   },
   "file_extension": ".py",
   "mimetype": "text/x-python",
   "name": "python",
   "nbconvert_exporter": "python",
   "pygments_lexer": "ipython3",
   "version": "3.7.11"
  },
  "vscode": {
   "interpreter": {
    "hash": "daea455f8f2fa5fd1325ecdf70d39c36f94abce8f384f5076330d1881fe6b777"
   }
  }
 },
 "nbformat": 4,
 "nbformat_minor": 5
}
