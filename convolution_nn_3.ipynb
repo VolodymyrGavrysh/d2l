{
 "cells": [
  {
   "cell_type": "markdown",
   "id": "ff65311d",
   "metadata": {},
   "source": [
    "### started 11/07/22\n",
    "#### CNN\n",
    "##### translation invariance - NN should respond to the same pattern, no matter where it is located\n",
    "##### yearly layers conscentrated on local regions "
   ]
  },
  {
   "cell_type": "code",
   "execution_count": 6,
   "id": "6d4e4e60",
   "metadata": {},
   "outputs": [],
   "source": [
    "# 6.2 Convolutions for Images\n",
    "from d2l import mxnet as d2l\n",
    "from mxnet import autograd, np, npx\n",
    "from mxnet.gluon import nn\n",
    "npx.set_np()"
   ]
  },
  {
   "cell_type": "code",
   "execution_count": 7,
   "id": "540abe64",
   "metadata": {},
   "outputs": [
    {
     "data": {
      "text/plain": [
       "array([[19., 25.],\n",
       "       [37., 43.]])"
      ]
     },
     "execution_count": 7,
     "metadata": {},
     "output_type": "execute_result"
    }
   ],
   "source": [
    "def corr2d(X, K):\n",
    "    \"\"\"Compute 2D cross-correlation.\n",
    "    K - kernel\n",
    "    X - matrix of weights \n",
    "    (Nh − Kh + 1) × (Nw − Kw + 1) - > output size of convolutional operation \n",
    "    \"\"\"\n",
    "    h, w = K.shape\n",
    "    Y = np.zeros((X.shape[0] - h + 1, X.shape[1] - w + 1))\n",
    "    for i in range(Y.shape[0]):\n",
    "        for j in range(Y.shape[1]):\n",
    "            Y[i, j] = d2l.reduce_sum((X[i: i + h, j: j + w] * K))\n",
    "    return Y\n",
    "X = np.array([[0.0, 1.0, 2.0], [3.0, 4.0, 5.0], [6.0, 7.0, 8.0]])\n",
    "K = np.array([[0.0, 1.0], [2.0, 3.0]]) \n",
    "corr2d(X, K)"
   ]
  },
  {
   "cell_type": "code",
   "execution_count": 8,
   "id": "e83420af",
   "metadata": {},
   "outputs": [
    {
     "data": {
      "text/plain": [
       "array([[0.03792691, 0.0928258 ],\n",
       "       [0.20262358, 0.25752246],\n",
       "       [0.3673202 , 0.42221913]])"
      ]
     },
     "execution_count": 8,
     "metadata": {},
     "output_type": "execute_result"
    }
   ],
   "source": [
    "class conv2d(nn.Block): # create conv layer\n",
    "    def __init__(self, kernel, **kwargs):\n",
    "        super().__init__(**kwargs)\n",
    "        self.ww = self.params.get('ww', shape=kernel)\n",
    "        self.bb = self.params.get('bb', shape=(1,))\n",
    "    def forward(self, X):\n",
    "        return corr2d(X, self.ww.data()) + self.bb.data()\n",
    "        \n",
    "conv2d = conv2d((1, 2))\n",
    "conv2d.initialize()\n",
    "conv2d(X)"
   ]
  },
  {
   "cell_type": "code",
   "execution_count": 9,
   "id": "880ab6af",
   "metadata": {},
   "outputs": [
    {
     "data": {
      "text/plain": [
       "(array([[0., 1.],\n",
       "        [0., 1.],\n",
       "        [0., 1.]]),\n",
       " array([[1., 1., 0.],\n",
       "        [1., 1., 0.],\n",
       "        [1., 1., 0.]]))"
      ]
     },
     "execution_count": 9,
     "metadata": {},
     "output_type": "execute_result"
    }
   ],
   "source": [
    "# edge detector\n",
    "num = np.ones((3,3))\n",
    "num[:, 2:3] = 0\n",
    "kernel = np.array([[1,-1]])\n",
    "corr2d(num, kernel), num"
   ]
  },
  {
   "cell_type": "code",
   "execution_count": null,
   "id": "024d62bc",
   "metadata": {},
   "outputs": [],
   "source": []
  },
  {
   "cell_type": "code",
   "execution_count": null,
   "id": "417860ee",
   "metadata": {},
   "outputs": [],
   "source": []
  }
 ],
 "metadata": {
  "kernelspec": {
   "display_name": "Python 3.7.11",
   "language": "python",
   "name": "python3"
  },
  "language_info": {
   "codemirror_mode": {
    "name": "ipython",
    "version": 3
   },
   "file_extension": ".py",
   "mimetype": "text/x-python",
   "name": "python",
   "nbconvert_exporter": "python",
   "pygments_lexer": "ipython3",
   "version": "3.7.11"
  },
  "vscode": {
   "interpreter": {
    "hash": "daea455f8f2fa5fd1325ecdf70d39c36f94abce8f384f5076330d1881fe6b777"
   }
  }
 },
 "nbformat": 4,
 "nbformat_minor": 5
}
