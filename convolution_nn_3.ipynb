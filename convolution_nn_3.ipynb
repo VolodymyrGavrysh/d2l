{
 "cells": [
  {
   "cell_type": "markdown",
   "id": "ff65311d",
   "metadata": {},
   "source": [
    "### started 11/07/22\n",
    "#### CNN\n",
    "##### translation invariance - NN should respond to the same pattern, no matter where it is located\n",
    "##### yearly layers conscentrated on local regions "
   ]
  },
  {
   "cell_type": "code",
   "execution_count": 27,
   "id": "6d4e4e60",
   "metadata": {},
   "outputs": [],
   "source": [
    "# 6.2 Convolutions for Images\n",
    "from d2l import mxnet as d2l\n",
    "from mxnet import autograd, np, npx\n",
    "from mxnet.gluon import nn\n",
    "npx.set_np()"
   ]
  },
  {
   "cell_type": "code",
   "execution_count": 91,
   "id": "540abe64",
   "metadata": {},
   "outputs": [
    {
     "data": {
      "text/plain": [
       "array([[19., 25.],\n",
       "       [37., 43.]])"
      ]
     },
     "execution_count": 91,
     "metadata": {},
     "output_type": "execute_result"
    }
   ],
   "source": [
    "def corr2d(X, K):\n",
    "    \"\"\"Compute 2D cross-correlation.\n",
    "    K - kernel\n",
    "    X - matrix of weights \n",
    "    (Nh − Kh + 1) × (Nw − Kw + 1) - > output size of convolutional operation \n",
    "    \"\"\"\n",
    "    h, w = K.shape\n",
    "    Y = np.zeros((X.shape[0] - h + 1, X.shape[1] - w + 1))\n",
    "    for i in range(Y.shape[0]):\n",
    "        for j in range(Y.shape[1]):\n",
    "            Y[i, j] = d2l.reduce_sum((X[i: i + h, j: j + w] * K))\n",
    "    return Y\n",
    "X = np.array([[0.0, 1.0, 2.0], [3.0, 4.0, 5.0], [6.0, 7.0, 8.0]])\n",
    "K = np.array([[0.0, 1.0], [2.0, 3.0]]) \n",
    "corr2d(X, K)"
   ]
  },
  {
   "cell_type": "code",
   "execution_count": 85,
   "id": "e83420af",
   "metadata": {},
   "outputs": [
    {
     "data": {
      "text/plain": [
       "array([], shape=(1, 0))"
      ]
     },
     "execution_count": 85,
     "metadata": {},
     "output_type": "execute_result"
    }
   ],
   "source": [
    "class conv2d(nn.Block): # create conv layer\n",
    "    def __init__(self, kernel, **kwargs):\n",
    "        super().__init__(**kwargs)\n",
    "        self.ww = self.params.get('ww', shape=kernel)\n",
    "        self.bb = self.params.get('bb', shape=(1,))\n",
    "    def forward(self, X):\n",
    "        return corr2d(X, self.ww.data()) + self.bb.data()\n",
    "        \n",
    "conv2d = conv2d((1, 2))\n",
    "conv2d.initialize()\n",
    "conv2d(X)"
   ]
  },
  {
   "cell_type": "code",
   "execution_count": 88,
   "id": "880ab6af",
   "metadata": {},
   "outputs": [
    {
     "data": {
      "text/plain": [
       "array([[0., 1.],\n",
       "       [0., 1.],\n",
       "       [0., 1.]])"
      ]
     },
     "execution_count": 88,
     "metadata": {},
     "output_type": "execute_result"
    }
   ],
   "source": [
    "# edge detector\n",
    "num = np.ones((3,3))\n",
    "num[:, 2:3] = 0\n",
    "kernel = np.array([[1,-1]])\n",
    "corr2d(num, kernel)"
   ]
  },
  {
   "cell_type": "code",
   "execution_count": 78,
   "id": "024d62bc",
   "metadata": {},
   "outputs": [],
   "source": [
    "# learning a kernel\n",
    "conv_ = nn.Conv2D(1, kernel_size=(1, 2), use_bias=False)\n",
    "conv_.initialize()\n",
    "\n",
    "X = np.ones((6, 8))\n",
    "X[:, 2:6] = 0 # add noise\n",
    "K = np.array([[1.0, -1.0]]) # kernel to learn edge\n",
    "Y = corr2d(X, K)\n",
    "\n",
    "X = X.reshape(1, 1, 6, 8) # bathch size 1, channel 1, height 6, width 8\n",
    "Y = Y.reshape(1, 1, 6, 7) # batch size 1, channel 1, height 6, width 7"
   ]
  },
  {
   "cell_type": "code",
   "execution_count": 79,
   "id": "417860ee",
   "metadata": {},
   "outputs": [
    {
     "name": "stdout",
     "output_type": "stream",
     "text": [
      "epoch 2, loss 4.895\n",
      "epoch 4, loss 0.846\n",
      "epoch 6, loss 0.152\n",
      "epoch 8, loss 0.030\n",
      "epoch 10, loss 0.007\n"
     ]
    },
    {
     "data": {
      "text/plain": [
       "array([[[[ 0.994142 , -0.9830885]]]])"
      ]
     },
     "execution_count": 79,
     "metadata": {},
     "output_type": "execute_result"
    }
   ],
   "source": [
    "for epoch in range(10):\n",
    "    with autograd.record():\n",
    "        Y_pred = conv_(X)\n",
    "        l = (Y_pred - Y) ** 2\n",
    "    l.backward()\n",
    "    conv_.weight.data()[:] -= conv_.weight.grad() * 3e-2\n",
    "    if (epoch + 1) % 2 == 0:\n",
    "        print('epoch %d, loss %.3f' % (epoch + 1, l.sum()))\n",
    "conv_.weight.data()"
   ]
  },
  {
   "cell_type": "code",
   "execution_count": 110,
   "id": "8e7a5f64",
   "metadata": {},
   "outputs": [
    {
     "data": {
      "text/plain": [
       "array([[-2.,  1.,  0.,  0.],\n",
       "       [ 1., -2.,  1.,  0.],\n",
       "       [ 0.,  1., -2.,  1.],\n",
       "       [ 0.,  0.,  1., -2.]])"
      ]
     },
     "execution_count": 110,
     "metadata": {},
     "output_type": "execute_result"
    }
   ],
   "source": [
    "# 1. Construct an image X with diagonal edges.\n",
    "X1 = np.ones((5, 5))\n",
    "for i in range(5):\n",
    "    X1[i, i] = 0\n",
    "# 1. What happens if you apply the kernel K in this section to it?\n",
    "kernel1 = np.array([[1,-1], [-1,1]])\n",
    "corr2d(X1, kernel1) "
   ]
  },
  {
   "cell_type": "code",
   "execution_count": 127,
   "id": "821eb759",
   "metadata": {},
   "outputs": [
    {
     "data": {
      "text/plain": [
       "Conv2D(-1 -> 1, kernel_size=(3, 5), stride=(3, 4), padding=(0, 1))"
      ]
     },
     "execution_count": 127,
     "metadata": {},
     "output_type": "execute_result"
    }
   ],
   "source": [
    "# Padding (nh - kh + ph + 1) x (nw - kw + pw + 1)\n",
    "## using odd kernels and padding\n",
    "\n",
    "# Stride\n",
    "# (nh − kh + ph + sh)/ sh × (nw − kw + pw + sw)/ sw\n",
    "conv2d = nn.Conv2D(1, kernel_size=(3, 5), padding=(0, 1), strides=(3, 4))\n",
    "conv2d"
   ]
  },
  {
   "cell_type": "code",
   "execution_count": 133,
   "id": "180fe241",
   "metadata": {},
   "outputs": [
    {
     "data": {
      "text/plain": [
       "0"
      ]
     },
     "execution_count": 133,
     "metadata": {},
     "output_type": "execute_result"
    }
   ],
   "source": [
    "# Multiple input / output chanels\n",
    "# chanel dimention for color images is 3\n",
    "\n",
    "# the shape of convolutional kernel c0 × ci × kh × kw (c0 input, ci output number of channels)\n"
   ]
  },
  {
   "cell_type": "code",
   "execution_count": 145,
   "id": "f4e5d450",
   "metadata": {},
   "outputs": [],
   "source": [
    "# 1 × 1 Convolutional Layer implementation \n",
    "\n",
    "def corr2d_multi_in_out_1x1(X, K):\n",
    "    c_i, h, w = X.shape\n",
    "    c_o = K.shape[0]\n",
    "    X = X.reshape((c_i, h * w))\n",
    "    K = K.reshape((c_o, c_i))\n",
    "    Y = np.dot(K, X) # Matrix multiplication in the fully-connected layer\n",
    "    return Y.reshape((c_o, h, w))\n",
    "\n",
    "def corr2d_multi_in(X, K):\n",
    "    # First, iterate through the 0th dimension (channel dimension) of `X` and `K`. Then, add them together\n",
    "    return sum(d2l.corr2d(x, k) for x, k in zip(X, K))\n",
    "\n",
    "def corr2d_multi_in_out(X, K):\n",
    "    # Iterate through the 0th dimension of `K`, and each time, perform\n",
    "    # cross-correlation operations with input `X`. All of the results are stacked together\n",
    "    return np.stack([corr2d_multi_in(X, k) for k in K], 0)\n",
    "\n",
    "X = np.random.normal(0, 1, (3, 3, 3))\n",
    "K = np.random.normal(0, 1, (2, 3, 1, 1))\n",
    "\n",
    "Y1 = corr2d_multi_in_out_1x1(X, K)\n",
    "Y2 = corr2d_multi_in_out(X, K)\n",
    "\n",
    "assert d2l.reduce_sum(np.abs(Y1-Y2)) < 1e-6 # check if the results are the same\n",
    "# -> it is the same cross-correlation function but with more dimentions (3, 3, 3)"
   ]
  },
  {
   "cell_type": "code",
   "execution_count": null,
   "id": "0b40f810",
   "metadata": {},
   "outputs": [],
   "source": []
  }
 ],
 "metadata": {
  "kernelspec": {
   "display_name": "Python 3.7.11",
   "language": "python",
   "name": "python3"
  },
  "language_info": {
   "codemirror_mode": {
    "name": "ipython",
    "version": 3
   },
   "file_extension": ".py",
   "mimetype": "text/x-python",
   "name": "python",
   "nbconvert_exporter": "python",
   "pygments_lexer": "ipython3",
   "version": "3.7.11"
  },
  "vscode": {
   "interpreter": {
    "hash": "daea455f8f2fa5fd1325ecdf70d39c36f94abce8f384f5076330d1881fe6b777"
   }
  }
 },
 "nbformat": 4,
 "nbformat_minor": 5
}
